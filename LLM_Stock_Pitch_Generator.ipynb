{
 "cells": [
  {
   "cell_type": "markdown",
   "id": "80e02ac5-dedb-4317-a749-0f8d6d5ae9b4",
   "metadata": {},
   "source": [
    "# A Full Business Solution for a Investment Management Company\n",
    "\n",
    "### BUSINESS CHALLENGE:\n",
    "\n",
    "Create a product that builds a 1 Page Pitch for an investment company to convince them to purchase a stock and include it in their portfolio.\n"
   ]
  },
  {
   "cell_type": "code",
   "execution_count": 1,
   "id": "2e057455-dda0-46d8-ba57-0c35465292ca",
   "metadata": {},
   "outputs": [],
   "source": [
    "# imports\n",
    "\n",
    "import os\n",
    "import requests\n",
    "import json\n",
    "from typing import List\n",
    "from dotenv import load_dotenv\n",
    "from bs4 import BeautifulSoup\n",
    "from IPython.display import Markdown, display, update_display\n",
    "from openai import OpenAI"
   ]
  },
  {
   "cell_type": "code",
   "execution_count": 2,
   "id": "44904055-4ca8-48bb-a724-50c2d06bb22a",
   "metadata": {},
   "outputs": [
    {
     "name": "stdout",
     "output_type": "stream",
     "text": [
      "API key looks good so far\n"
     ]
    }
   ],
   "source": [
    "# Initialize and constants\n",
    "\n",
    "load_dotenv(override=True)\n",
    "api_key = os.getenv('OPENAI_API_KEY')\n",
    "\n",
    "if api_key and api_key.startswith('sk-proj-') and len(api_key)>10:\n",
    "    print(\"API key looks good so far\")\n",
    "else:\n",
    "    print(\"There might be a problem with your API key? Please visit the troubleshooting notebook!\")\n",
    "    \n",
    "MODEL = 'gpt-4o-mini'\n",
    "openai = OpenAI()"
   ]
  },
  {
   "cell_type": "code",
   "execution_count": 3,
   "id": "97867ef8-7793-4fe4-832e-ffa68885d0eb",
   "metadata": {},
   "outputs": [],
   "source": [
    "# A class to represent a Webpage\n",
    "\n",
    "# Some websites need you to use proper headers when fetching them:\n",
    "headers = {\n",
    " \"User-Agent\": \"Mozilla/5.0 (Windows NT 10.0; Win64; x64) AppleWebKit/537.36 (KHTML, like Gecko) Chrome/117.0.0.0 Safari/537.36\"\n",
    "}\n",
    "\n",
    "class Website:\n",
    "    \"\"\"\n",
    "    A utility class to represent a Website that we have scraped, now with links\n",
    "    \"\"\"\n",
    "\n",
    "    def __init__(self, url):\n",
    "        self.url = url\n",
    "        response = requests.get(url, headers=headers)\n",
    "        self.body = response.content\n",
    "        soup = BeautifulSoup(self.body, 'html.parser')\n",
    "        self.title = soup.title.string if soup.title else \"No title found\"\n",
    "        if soup.body:\n",
    "            for irrelevant in soup.body([\"script\", \"style\", \"img\", \"input\"]):\n",
    "                irrelevant.decompose()\n",
    "            self.text = soup.body.get_text(separator=\"\\n\", strip=True)\n",
    "        else:\n",
    "            self.text = \"\"\n",
    "        links = [link.get('href') for link in soup.find_all('a')]\n",
    "        self.links = [link for link in links if link]\n",
    "\n",
    "    def get_contents(self):\n",
    "        return f\"Webpage Title:\\n{self.title}\\nWebpage Contents:\\n{self.text}\\n\\n\""
   ]
  },
  {
   "cell_type": "markdown",
   "id": "3d8cdee7-9182-43c7-b4c3-55a010c83aa7",
   "metadata": {},
   "source": [
    "## First step: Have GPT-4o-mini figure out which links are relevant\n",
    "\n",
    "### Use a call to gpt-4o-mini to read the links on a webpage, and respond in structured JSON.  \n",
    "It should decide which links are relevant, and replace relative links such as \"/about\" with \"https://company.com/about\".  \n",
    "I will use \"one shot prompting\" in which I provide an example of how it should respond in the prompt.\n",
    "\n",
    "This is an excellent use case for an LLM, because it requires nuanced understanding. Imagine trying to code this without LLMs by parsing and analyzing the webpage - it would be very hard!"
   ]
  },
  {
   "cell_type": "code",
   "execution_count": 4,
   "id": "48c72844-6ce7-4c67-900e-35e0645a3993",
   "metadata": {},
   "outputs": [],
   "source": [
    "link_system_prompt = \"You are provided with a list of links found on a webpage. \\\n",
    "You are able to decide which of the links would be most relevant to include in a 1 page pitch about the company for investment managers who want to buy the stock, \\\n",
    "such as links to an About page, or a Company page, or Investor Relations pages.\\n\"\n",
    "link_system_prompt += \"You should respond in JSON as in this example:\"\n",
    "link_system_prompt += \"\"\"\n",
    "{\n",
    "    \"links\": [\n",
    "        {\"type\": \"about page\", \"url\": \"https://full.url/goes/here/about\"},\n",
    "        {\"type\": \"investor relations page\": \"url\": \"https://another.full.url/investor-relations\"}\n",
    "    ]\n",
    "}\n",
    "\"\"\""
   ]
  },
  {
   "cell_type": "code",
   "execution_count": 5,
   "id": "267c45fd-4a4e-424c-9ca5-2c01afa28c69",
   "metadata": {},
   "outputs": [],
   "source": [
    "def get_links_user_prompt(website):\n",
    "    user_prompt = f\"Here is the list of links on the website of {website.url} - \"\n",
    "    user_prompt += \"please decide which of these are relevant web links for a pitch 1 pager about the company, respond with the full https URL in JSON format. \\\n",
    "Do not include Terms of Service, Privacy, email links.\\n\"\n",
    "    user_prompt += \"Links (some might be relative links):\\n\"\n",
    "    user_prompt += \"\\n\".join(website.links)\n",
    "    return user_prompt"
   ]
  },
  {
   "cell_type": "code",
   "execution_count": 6,
   "id": "0eaa221c-828d-4973-bb66-d913a0c113d5",
   "metadata": {},
   "outputs": [],
   "source": [
    "def get_links(url):\n",
    "    website = Website(url)\n",
    "    response = openai.chat.completions.create(\n",
    "        model=MODEL,\n",
    "        messages=[\n",
    "            {\"role\": \"system\", \"content\": link_system_prompt},\n",
    "            {\"role\": \"user\", \"content\": get_links_user_prompt(website)}\n",
    "      ],\n",
    "        response_format={\"type\": \"json_object\"}\n",
    "    )\n",
    "    result = response.choices[0].message.content\n",
    "    return json.loads(result)"
   ]
  },
  {
   "cell_type": "markdown",
   "id": "fe9e44b1-c198-4a80-ae93-a8483f73eb61",
   "metadata": {},
   "source": [
    "## Second Step: Make the Pitch Deck!\n",
    "\n",
    "Assemble all the details into another prompt to GPT4-o"
   ]
  },
  {
   "cell_type": "code",
   "execution_count": 7,
   "id": "78ccfbdc-1b59-4956-8ef8-d17e43d4d4b6",
   "metadata": {},
   "outputs": [],
   "source": [
    "def get_all_details(url):\n",
    "    result = \"Landing page:\\n\"\n",
    "    result += Website(url).get_contents()\n",
    "    links = get_links(url)\n",
    "    print(\"Found links:\", links)\n",
    "    for link in links[\"links\"]:\n",
    "        result += f\"\\n\\n{link['type']}\\n\"\n",
    "        result += Website(link[\"url\"]).get_contents()\n",
    "    return result"
   ]
  },
  {
   "cell_type": "code",
   "execution_count": 8,
   "id": "1de591c9-a3f4-4023-b177-ceb457bbaf1c",
   "metadata": {},
   "outputs": [],
   "source": [
    "system_prompt = \"You are an investment research analyst that analyzes the contents of several relevant pages from a company website \\\n",
    "and creates a short 1 page pitch about the company for prospective investment managers as to why to purchase the stock. Respond in markdown.\\\n",
    "Include details of company products, services, investor relations, growth, and other details if you have the information that will help the analyst give a buy recommendation.\"\n",
    "\n",
    "# Or uncomment the lines below for a more humorous brochure - this demonstrates how easy it is to incorporate 'tone':\n",
    "\n",
    "# system_prompt = \"You are an assistant that analyzes the contents of several relevant pages from a company website \\\n",
    "# and creates a short humorous, entertaining, jokey brochure about the company for prospective customers, investors and recruits. Respond in markdown.\\\n",
    "# Include details of company culture, customers and careers/jobs if you have the information.\"\n"
   ]
  },
  {
   "cell_type": "code",
   "execution_count": 9,
   "id": "91420f65-a916-4eed-9113-948bf9e51182",
   "metadata": {},
   "outputs": [],
   "source": [
    "def get_brochure_user_prompt(company_name, url):\n",
    "    user_prompt = f\"You are looking at a company called: {company_name}\\n\"\n",
    "    user_prompt += f\"Here are the contents of its landing page and other relevant pages; use this information to build a short 1 page pitch about the company in markdown.\\n\"\n",
    "    user_prompt += get_all_details(url)\n",
    "    user_prompt = user_prompt[:20000] # Truncate if more than 5,000 characters\n",
    "    return user_prompt"
   ]
  },
  {
   "cell_type": "code",
   "execution_count": 10,
   "id": "be58b6a7-51d6-4dd8-9742-790153a2f44d",
   "metadata": {},
   "outputs": [],
   "source": [
    "def create_brochure(company_name, url):\n",
    "    response = openai.chat.completions.create(\n",
    "        model=MODEL,\n",
    "        messages=[\n",
    "            {\"role\": \"system\", \"content\": system_prompt},\n",
    "            {\"role\": \"user\", \"content\": get_brochure_user_prompt(company_name, url)}\n",
    "          ],\n",
    "    )\n",
    "    result = response.choices[0].message.content\n",
    "    display(Markdown(result))"
   ]
  },
  {
   "cell_type": "markdown",
   "id": "933c8e3b-ecb3-4c85-95dd-e880df39746d",
   "metadata": {},
   "source": [
    "## Finally - A Minor Improvement\n",
    "\n",
    "With a small adjustment, I can change this so that the results stream back from OpenAI,\n",
    "with the familiar typewriter animation"
   ]
  },
  {
   "cell_type": "code",
   "execution_count": 11,
   "id": "67b717f8-62f9-4d49-9bac-21b9caaaafa9",
   "metadata": {},
   "outputs": [],
   "source": [
    "def stream_brochure(company_name, url):\n",
    "    stream = openai.chat.completions.create(\n",
    "        model=MODEL,\n",
    "        messages=[\n",
    "            {\"role\": \"system\", \"content\": system_prompt},\n",
    "            {\"role\": \"user\", \"content\": get_brochure_user_prompt(company_name, url)}\n",
    "          ],\n",
    "        stream=True\n",
    "    )\n",
    "    \n",
    "    response = \"\"\n",
    "    display_handle = display(Markdown(\"\"), display_id=True)\n",
    "    for chunk in stream:\n",
    "        response += chunk.choices[0].delta.content or ''\n",
    "        response = response.replace(\"```\",\"\").replace(\"markdown\", \"\")\n",
    "        update_display(Markdown(response), display_id=display_handle.display_id)"
   ]
  },
  {
   "cell_type": "code",
   "execution_count": 12,
   "id": "eba8bf41-0b72-4d75-bbb3-dec2f4fadcf7",
   "metadata": {},
   "outputs": [
    {
     "name": "stdout",
     "output_type": "stream",
     "text": [
      "Found links: {'links': [{'type': 'about page', 'url': 'https://www.blackrock.com/us/individual/about-us/about-blackrock'}, {'type': 'corporate page', 'url': 'https://www.blackrock.com/corporate'}, {'type': 'investor relations page', 'url': 'https://ir.blackrock.com/home/default.aspx'}, {'type': 'investment stewardship page', 'url': 'https://www.blackrock.com/corporate/about-us/investment-stewardship'}, {'type': 'sustainability page', 'url': 'https://www.blackrock.com/corporate/sustainability/our-approach-to-sustainability'}, {'type': 'newsroom page', 'url': 'https://www.blackrock.com/corporate/newsroom'}]}\n"
     ]
    },
    {
     "data": {
      "text/markdown": [
       "# Investment Pitch: BlackRock (BLK)\n",
       "\n",
       "## Overview\n",
       "BlackRock, Inc. (NYSE: BLK) is a premier global investment manager and fiduciary with over $9 trillion in assets under management (AUM), spanning diverse investment strategies and geographical markets. Established in 1988, the firm's mission is to help more people experience financial well-being by delivering innovative investment solutions and services.\n",
       "\n",
       "## Key Products & Services\n",
       "BlackRock’s offerings cater to various types of clients, including individual investors, advisors, institutions, and government entities. Their key product lines include:\n",
       "\n",
       "- **Mutual Funds:** A wide range of actively managed and index funds covering various asset classes.\n",
       "- **iShares ETFs:** Market-leading exchange-traded funds (ETFs) that provide exposure to equities, fixed income, commodities, and more.\n",
       "- **Aladdin Platform:** Advanced investment management and technology platform providing risk analytics, portfolio management, and financial stewardship.\n",
       "- **Retirement Solutions:** Target date funds like LifePath, which help investors plan for retirement by adjusting exposure based on the target retirement date.\n",
       "\n",
       "## Growth Potential\n",
       "1. **Market Leadership:** As one of the largest asset managers, BlackRock's scale enables it to leverage efficiencies and maintain competitive pricing. The growth of passive investment strategies further solidifies its position in the ETF market.\n",
       "2. **Digital Assets:** BlackRock is proactively exploring digital asset investments, including cryptocurrencies and blockchain-related opportunities, aligning with the evolving preferences of younger investors.\n",
       "3. **Sustainability Focus:** The firm's commitment to sustainability integrates Environmental, Social, and Governance (ESG) factors into its investment processes, attracting socially responsible investors and staying ahead of regulatory demands.\n",
       "\n",
       "## Investor Relations\n",
       "BlackRock maintains a robust investor relations framework, providing detailed financial disclosures, yearly earnings discussions, and transparency in corporate governance. Larry Fink, CEO, emphasizes the importance of responsible investing and the need for adaptability in the ever-changing market landscape. The company is committed to delivering shareholder returns through dividends and stock buybacks, reinforcing investor confidence.\n",
       "\n",
       "## Recent Developments & Insights\n",
       "- Recent commentary from BlackRock highlights the importance of smart portfolio allocations amidst economic uncertainties, advocating for a balanced approach between stocks, bonds, commodities, and alternative investments.\n",
       "- The firm continually enhances its digital tools, such as the LifePath cash management solutions and Portfolio Selector Tool, aimed at improving user engagement and investment outcomes for clients.\n",
       "\n",
       "## Conclusion: Buy Recommendation\n",
       "With its strong market position, diversified product offerings, commitment to innovation, and focus on sustainability, BlackRock is well-positioned for continued growth and resilience in changing markets. Investors seeking to capitalize on long-term financial trends and robust returns should consider adding BlackRock to their portfolios. Given these factors, we recommend a **Buy** rating for BlackRock's stock."
      ],
      "text/plain": [
       "<IPython.core.display.Markdown object>"
      ]
     },
     "metadata": {},
     "output_type": "display_data"
    }
   ],
   "source": [
    "stream_brochure(\"Blackrock\", \"https://blackrock.com\")"
   ]
  },
  {
   "cell_type": "code",
   "execution_count": null,
   "id": "f2a994a1-4f97-4790-a2b9-70d10cc508cb",
   "metadata": {},
   "outputs": [],
   "source": []
  }
 ],
 "metadata": {
  "kernelspec": {
   "display_name": "Python 3 (ipykernel)",
   "language": "python",
   "name": "python3"
  },
  "language_info": {
   "codemirror_mode": {
    "name": "ipython",
    "version": 3
   },
   "file_extension": ".py",
   "mimetype": "text/x-python",
   "name": "python",
   "nbconvert_exporter": "python",
   "pygments_lexer": "ipython3",
   "version": "3.11.11"
  }
 },
 "nbformat": 4,
 "nbformat_minor": 5
}
