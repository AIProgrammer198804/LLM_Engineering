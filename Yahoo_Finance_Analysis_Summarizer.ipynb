{
 "cells": [
  {
   "cell_type": "markdown",
   "id": "027508b4-b2b5-465d-9a03-c7fd80d62e23",
   "metadata": {},
   "source": [
    "### Yahoo Finance Analysis LLM Summarizer"
   ]
  },
  {
   "cell_type": "markdown",
   "id": "ce8fbe38-00f2-46ea-a6d6-04a7a2822d8a",
   "metadata": {},
   "source": [
    "##### This analysis scrapes the Yahoo Finance website for multiple tickers. Specifically, it scrapes the Yahoo Finance Analysis page and use Selenium to extract the title and text. Afterwards, the script uses Open AI's gpt-4o-mini to summarize the findings of the analysis using a User and System Prompt."
   ]
  },
  {
   "cell_type": "code",
   "execution_count": 1,
   "id": "759fc9f9-f3ee-4405-8452-1360dea3f8f6",
   "metadata": {},
   "outputs": [],
   "source": [
    "import numpy as np\n",
    "import pandas as pd\n",
    "import requests\n",
    "from bs4 import BeautifulSoup\n",
    "import pickle\n",
    "import unicodedata\n",
    "from dotenv import load_dotenv\n",
    "from IPython.display import Markdown, display\n",
    "from openai import OpenAI\n",
    "import os\n",
    "from selenium import webdriver\n",
    "from selenium.webdriver.chrome.service import Service\n",
    "from selenium.webdriver.common.by import By\n",
    "from selenium.webdriver.chrome.options import Options\n",
    "from webdriver_manager.chrome import ChromeDriverManager\n",
    "import time\n",
    "from selenium import webdriver\n",
    "from selenium.webdriver.support.ui import WebDriverWait\n",
    "from selenium.webdriver.support import expected_conditions as EC\n",
    "import re"
   ]
  },
  {
   "cell_type": "code",
   "execution_count": 2,
   "id": "1140756d-9453-49b5-9b61-9fd04406f4b0",
   "metadata": {},
   "outputs": [
    {
     "name": "stdout",
     "output_type": "stream",
     "text": [
      "API key found and looks good so far!\n"
     ]
    }
   ],
   "source": [
    "# Load environment variables in a file called .env\n",
    "\n",
    "load_dotenv(override=True) # looks at .env file and loads in secrets\n",
    "api_key = os.getenv('OPENAI_API_KEY')\n",
    "\n",
    "# Check the key\n",
    "\n",
    "if not api_key:\n",
    "    print(\"No API key was found - please head over to the troubleshooting notebook in this folder to identify & fix!\")\n",
    "elif not api_key.startswith(\"sk-proj-\"):\n",
    "    print(\"An API key was found, but it doesn't start sk-proj-; please check you're using the right key - see troubleshooting notebook\")\n",
    "elif api_key.strip() != api_key:\n",
    "    print(\"An API key was found, but it looks like it might have space or tab characters at the start or end - please remove them - see troubleshooting notebook\")\n",
    "else:\n",
    "    print(\"API key found and looks good so far!\")\n"
   ]
  },
  {
   "cell_type": "code",
   "execution_count": 3,
   "id": "63d72447-6941-42f3-957e-c4af1fdd543a",
   "metadata": {},
   "outputs": [],
   "source": [
    "openai = OpenAI()"
   ]
  },
  {
   "cell_type": "code",
   "execution_count": 57,
   "id": "4b82509f-74fb-43f2-8e43-d94e6872bae2",
   "metadata": {},
   "outputs": [
    {
     "name": "stdout",
     "output_type": "stream",
     "text": [
      "AAPL: https://finance.yahoo.com/quote/AAPL/analysis/\n",
      "MSFT: https://finance.yahoo.com/quote/MSFT/analysis/\n",
      "SMCI: https://finance.yahoo.com/quote/SMCI/analysis/\n"
     ]
    }
   ],
   "source": [
    "from selenium import webdriver\n",
    "from selenium.webdriver.chrome.options import Options\n",
    "from selenium.webdriver.common.by import By\n",
    "import time\n",
    "\n",
    "# List of tickers\n",
    "tickers = ['AAPL', 'MSFT', 'SMCI']\n",
    "\n",
    "# Setup headless Chrome\n",
    "options = Options()\n",
    "options.add_argument('--headless=new')\n",
    "options.add_argument('--disable-gpu')\n",
    "options.add_argument('--no-sandbox')\n",
    "driver = webdriver.Chrome(options=options)\n",
    "\n",
    "analysis_links = {}\n",
    "\n",
    "for ticker in tickers:\n",
    "    base_url = f'https://finance.yahoo.com/quote/{ticker}'\n",
    "    driver.get(base_url)\n",
    "    time.sleep(3)  # wait for page to load\n",
    "\n",
    "    try:\n",
    "        # Find \"Analysis\" tab link in navigation menu\n",
    "        nav_links = driver.find_elements(By.CSS_SELECTOR, 'a[href*=\"/quote/\"][href*=\"/analysis\"]')\n",
    "        for link in nav_links:\n",
    "            href = link.get_attribute('href')\n",
    "            if '/analysis' in href:\n",
    "                analysis_links[ticker] = href\n",
    "                break\n",
    "        else:\n",
    "            analysis_links[ticker] = \"Analysis link not found\"\n",
    "    except Exception as e:\n",
    "        analysis_links[ticker] = f\"Error: {e}\"\n",
    "\n",
    "driver.quit() "
   ]
  },
  {
   "cell_type": "code",
   "execution_count": 63,
   "id": "fb6e5480-155f-4788-897c-a1515b37ab6b",
   "metadata": {},
   "outputs": [],
   "source": [
    "yahoo_links  = list(analysis_links.values())"
   ]
  },
  {
   "cell_type": "code",
   "execution_count": 68,
   "id": "4ac0b7c9-486e-447a-ab1f-9c237f0ef5ed",
   "metadata": {},
   "outputs": [],
   "source": [
    "from selenium import webdriver\n",
    "from selenium.webdriver.chrome.options import Options\n",
    "from selenium.webdriver.common.by import By\n",
    "import time\n",
    "\n",
    "class Website:\n",
    "    def __init__(self, url):\n",
    "        self.url = url\n",
    "\n",
    "        options = Options()\n",
    "        options.add_argument(\"--headless=new\")\n",
    "        options.add_argument(\"--disable-gpu\")\n",
    "        options.add_argument(\"--no-sandbox\")\n",
    "        self.driver = webdriver.Chrome(options=options)\n",
    "\n",
    "        self.driver.get(url)\n",
    "        time.sleep(5)  # let JS render\n",
    "\n",
    "        self.title = self.driver.title\n",
    "        body_elem = self.driver.find_element(By.TAG_NAME, \"body\")\n",
    "        self.text = body_elem.text\n",
    "\n",
    "        self.driver.quit()"
   ]
  },
  {
   "cell_type": "code",
   "execution_count": 69,
   "id": "7026fd26-cc45-49d9-8302-0608c5aeb081",
   "metadata": {},
   "outputs": [
    {
     "name": "stdout",
     "output_type": "stream",
     "text": [
      "Super Micro Computer, Inc. (SMCI) Analyst Ratings, Estimates & Forecasts - Yahoo Finance\n",
      "Yahoo Finance\n",
      "Mail\n",
      "Sign in\n",
      "Summary\n",
      "News\n",
      "Research\n",
      "Chart\n",
      "Community\n",
      "Statistics\n",
      "Historical Data\n",
      "Profile\n",
      "Financials\n",
      "Analysis\n",
      "Options\n",
      "Holders\n",
      "Sustainability\n",
      "Unlock stock picks and a broker-level newsfeed that powers Wall Street.\n",
      "Upgrade Now\n",
      "NasdaqGS - Nasdaq Real Time Price\n",
      "•\n",
      "USD\n",
      "Super Micro Computer, Inc. (SMCI)\n",
      "Follow\n",
      "Compare\n",
      "32.32\n",
      "-2.77\n",
      "(-7.89%)\n",
      "At close: 4:00:00 PM EDT\n",
      "32.33\n",
      "+0.01\n",
      "(+0.03%)\n",
      "After hours: 7:59:33 PM EDT\n",
      "Time to buy SMCI?\n",
      "Estimate Trends\n",
      "Fair Value\n",
      "Research Analysis\n",
      "Earnings Per Share\n",
      "+0.53 Estimate\n",
      "  Revenue vs. Earnings\n",
      "Revenue\n",
      "5.68B\n",
      "Earnings\n",
      "320.6M\n",
      "Q1'24\n",
      "Q2'24\n",
      "Q3'24\n",
      "Q4'24\n",
      "0\n",
      "2B\n",
      "4B\n",
      "  Analyst Recommendations\n",
      "Strong Buy\n",
      "Buy\n",
      "Hold\n",
      "Underperform\n",
      "Sell\n",
      "  Analyst Price Targets\n",
      "15.00\n",
      "Low\n",
      "52.48\n",
      "Average\n",
      "32.32\n",
      "Current\n",
      "93.00\n",
      "High\n",
      "Earnings Estimate\n",
      "Currency in USD Current Qtr. (Mar 2025) Next Qtr. (Jun 2025) Current Year (2025) Next Year (2026)\n",
      "No. of Analysts 11 11 12 13\n",
      "Avg. Estimate 0.53 0.73 2.59 3.66\n",
      "Low Estimate 0.47 0.61 2.49 2.58\n",
      "High Estimate 0.58 0.83 2.69 5\n",
      "Year Ago EPS 0.67 0.\n"
     ]
    }
   ],
   "source": [
    "site = Website(\"https://finance.yahoo.com/quote/SMCI/analysis\")\n",
    "print(site.title)\n",
    "print(site.text[:1000])  # Preview"
   ]
  },
  {
   "cell_type": "code",
   "execution_count": 70,
   "id": "cc8686be-d5b4-4168-9377-eba5411e590a",
   "metadata": {},
   "outputs": [],
   "source": [
    "# Define our system prompt - you can experiment with this later, changing the last sentence to 'Respond in markdown in Spanish.\"\n",
    "\n",
    "system_prompt = \"You are a fundamental analyst that analyzes the contents of a yahoo finance analysis page \\\n",
    "and provides a short summary of the analysis, ignoring text that might be navigation related. \\\n",
    "Respond in markdown.\""
   ]
  },
  {
   "cell_type": "code",
   "execution_count": 71,
   "id": "56577df0-9c61-4494-9445-ca81f05aa448",
   "metadata": {},
   "outputs": [],
   "source": [
    "# A function that writes a User Prompt that asks for summaries of websites:\n",
    "\n",
    "def user_prompt_for(website):\n",
    "    user_prompt = f\"You are looking at a website titled {website.title}\"\n",
    "    user_prompt += \"\\nThe contents of this website is as follows; \\\n",
    "please provide a short summary of this website in markdown. \\\n",
    "If it includes news or announcements, then summarize these too.\\n\\n\"\n",
    "    user_prompt += website.text\n",
    "    return user_prompt"
   ]
  },
  {
   "cell_type": "code",
   "execution_count": 72,
   "id": "4071d0f3-4127-4e3b-96b9-05d919b91c10",
   "metadata": {},
   "outputs": [],
   "source": [
    "# See how this function creates exactly the format above\n",
    "\n",
    "def messages_for(website):\n",
    "    return [\n",
    "        {\"role\": \"system\", \"content\": system_prompt},\n",
    "        {\"role\": \"user\", \"content\": user_prompt_for(website)}\n",
    "    ]"
   ]
  },
  {
   "cell_type": "code",
   "execution_count": 73,
   "id": "63f9d965-a5e8-4068-9bd6-ca07dddaf4ee",
   "metadata": {},
   "outputs": [],
   "source": [
    "# And now: call the OpenAI API. You will get very familiar with this!\n",
    "\n",
    "def summarize(url):\n",
    "    website = Website(url)\n",
    "    response = openai.chat.completions.create(\n",
    "        model = \"gpt-4o-mini\",\n",
    "        messages = messages_for(website)\n",
    "    )\n",
    "    return response.choices[0].message.content"
   ]
  },
  {
   "cell_type": "code",
   "execution_count": 74,
   "id": "3fa8291c-a7aa-424b-9c6d-060f39a8a0d7",
   "metadata": {},
   "outputs": [],
   "source": [
    "# A function to display this nicely in the Jupyter output, using markdown\n",
    "\n",
    "def display_summary(url):\n",
    "    summary = summarize(url)\n",
    "    display(Markdown(summary))"
   ]
  },
  {
   "cell_type": "code",
   "execution_count": 75,
   "id": "b6b10367-929f-4d0d-a9d8-cee3d732e181",
   "metadata": {},
   "outputs": [
    {
     "data": {
      "text/markdown": [
       "# Apple Inc. (AAPL) Analyst Ratings, Estimates & Forecasts Summary\n",
       "\n",
       "## Current Stock Price\n",
       "- **Closing Price:** $203.19 (-9.25%)\n",
       "- **After Hours Price:** $203.25 (+0.03%)\n",
       "\n",
       "## Analyst Recommendations\n",
       "- **Overall Sentiment:** Mixed\n",
       "- **Ratings:**\n",
       "  - Strong Buy\n",
       "  - Buy\n",
       "  - Hold\n",
       "  - Underperform\n",
       "  - Sell\n",
       "\n",
       "## Price Targets\n",
       "- **Low Target:** $175.00\n",
       "- **Average Target:** $250.40\n",
       "- **Current Price:** $203.19\n",
       "- **High Target:** $325.00\n",
       "\n",
       "## Earnings Estimates\n",
       "- **Upcoming EPS Estimates:**\n",
       "  - Current Qtr (Mar 2025): $1.61\n",
       "  - Next Qtr (Jun 2025): $1.49\n",
       "  - Current Year (2025): $7.30\n",
       "  - Next Year (2026): $8.17\n",
       "\n",
       "## Revenue Estimates\n",
       "- **Revenue Projections:**\n",
       "  - Current Qtr (Mar 2025): $94.04B\n",
       "  - Next Qtr (Jun 2025): $89.41B\n",
       "  - Current Year (2025): $409.21B\n",
       "  - Next Year (2026): $441.99B\n",
       "\n",
       "## Analyst Ratings and Upgrades\n",
       "- Notable Upgrades:\n",
       "  - **B of A Securities:** Maintained \"Buy\" on 4/3/2025\n",
       "  - **Tigress Financial:** Maintained \"Strong Buy\" on 4/3/2025\n",
       "  - **Morgan Stanley:** Maintained \"Overweight\" on 3/12/2025\n",
       "\n",
       "## Growth Estimates\n",
       "- **Sales Growth:**\n",
       "  - Current Year: 8.32%\n",
       "  - Next Year: 12.04%\n",
       "\n",
       "## Overall Analyst Sentiment\n",
       "- Analysts are generally optimistic with several maintaining or upgrading their ratings, reflecting confidence in Apple's future growth potential driven by revenue and earnings estimates. \n",
       "\n",
       "## Conclusion\n",
       "Investors should consider current stock trends, analyst recommendations, and estimated earnings growth when evaluating AAPL's investment potential."
      ],
      "text/plain": [
       "<IPython.core.display.Markdown object>"
      ]
     },
     "metadata": {},
     "output_type": "display_data"
    }
   ],
   "source": [
    "display_summary(yahoo_links[0])"
   ]
  },
  {
   "cell_type": "code",
   "execution_count": null,
   "id": "d03e84d6-6944-411d-a6d2-04b0fa501977",
   "metadata": {},
   "outputs": [],
   "source": []
  }
 ],
 "metadata": {
  "kernelspec": {
   "display_name": "Python 3 (ipykernel)",
   "language": "python",
   "name": "python3"
  },
  "language_info": {
   "codemirror_mode": {
    "name": "ipython",
    "version": 3
   },
   "file_extension": ".py",
   "mimetype": "text/x-python",
   "name": "python",
   "nbconvert_exporter": "python",
   "pygments_lexer": "ipython3",
   "version": "3.11.11"
  }
 },
 "nbformat": 4,
 "nbformat_minor": 5
}
